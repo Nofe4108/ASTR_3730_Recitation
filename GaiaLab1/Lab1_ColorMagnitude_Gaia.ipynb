{
 "cells": [
  {
   "cell_type": "code",
   "execution_count": 1,
   "metadata": {},
   "outputs": [],
   "source": [
    "%matplotlib inline\n",
    "import matplotlib.pyplot as plt\n",
    "import pandas as pd\n",
    "import numpy as np"
   ]
  },
  {
   "cell_type": "markdown",
   "metadata": {},
   "source": [
    "# Lab 1\n",
    "In this lab, we'll follow in the steps of Hertzsprung and Russell and make a color-magnitude diagram showing the different populations of stars commonly observed in the Milky Way.\n",
    "\n",
    "Before starting, you'll need to download a Gaia DR2 data file and read about the data format and description of variables:\n",
    "### Gaia filters: https://www.cosmos.esa.int/web/gaia/iow_20180316\n",
    "### data release 2 (DR2): https://www.cosmos.esa.int/web/gaia/data-release-2\n",
    "### data file download (pick any files): http://cdn.gea.esac.esa.int/Gaia/gdr2/gaia_source/csv/\n",
    "### data format description: https://gea.esac.esa.int/archive/documentation/GDR2/Gaia_archive/chap_datamodel/sec_dm_main_tables/ssec_dm_gaia_source.html\n",
    "\n",
    "You'll also want to make sure you run the cell above to import the modules you will need to process/plot the data."
   ]
  },
  {
   "cell_type": "markdown",
   "metadata": {},
   "source": [
    "#### 1. Read in the data\n",
    "Download a file from the link and save it someplace useful (moving the file to this directory will be easiest). The file should be named something like:\n",
    "GaiaSource-1000172165251650944-1000424567594791808.csv. The file is nicely formatted, so we shouldn't need any special tricks to import it with pandas -- running something like\n",
    "\n",
    "```python\n",
    "data = pd.read_csv('Path/to/file.csv') #if you saved this in local directory just put the file name\n",
    "```\n",
    "\n",
    "should work right away! Do this below."
   ]
  },
  {
   "cell_type": "code",
   "execution_count": 20,
   "metadata": {},
   "outputs": [],
   "source": [
    "#read in the data\n"
   ]
  },
  {
   "cell_type": "markdown",
   "metadata": {},
   "source": [
    "**2. Make sure it worked and inspect data**\n",
    "\n",
    "You can look at the variables in the file using `data.keys()` -- check to make sure the fields you imported match the data format description above. You can check the integrity of a specific category (ie make sure it actually imported sensible numbers) by running something like `print(data.NameOfField)`. Do this below:"
   ]
  },
  {
   "cell_type": "code",
   "execution_count": null,
   "metadata": {},
   "outputs": [],
   "source": [
    "#check the data key/fields\n"
   ]
  },
  {
   "cell_type": "markdown",
   "metadata": {},
   "source": [
    "**3. Filtering the data**\n",
    "\n",
    "Sometimes the data might include values that could not be properly calculated for some reason. These will be listed as \"NAN\" (not a number) and we want to discard these rows. Pandas has a nice built in methodology for doing this -- if you have some data in a data frame `df` you can drop all the names like:\n",
    "\n",
    "```python\n",
    "df = df.dropna()\n",
    "```\n",
    "\n",
    "We ***don't*** want to run this command on the entire dataset, however, because we only care if there's a NAN in a column we care about (this command deletes the entire row wherever it finds a NAN, so we could delete a lot of \"good\" rows by running it on the entire dataset as we don't care if certain data is missing). \n",
    "\n",
    "Instead we want to create a new data frame with just the fields we are going to need during lab, and then drop the NANs from that set. We can accomplish this with the `filter` keyword, ie:\n",
    "```python\n",
    "filteredDF = originalDF.filter(['columnName1','columnName2','columnName3'],axis=1) \n",
    "#axis tells it whether to cut by column or row\n",
    "```\n",
    "\n",
    "To complete this lab you will need **four things from the Gaia data-set**: a measure of the magnitude of flux from the green filter, a measure of the blue band - the red band, the parallax angle, and the ratio of the measured parallax to the associated error. \n",
    "\n",
    "Find what these things should be called in the data format description link above, then create a new filtered data frame with just these four items using the code above as an example. Then drop the NANs from this new, filtered data frame by using the code snippet at the top of the cell."
   ]
  },
  {
   "cell_type": "code",
   "execution_count": 82,
   "metadata": {},
   "outputs": [],
   "source": [
    "#create a new DataFrame with just the relevant fields, then drop any NANs that might be present\n"
   ]
  },
  {
   "cell_type": "markdown",
   "metadata": {},
   "source": [
    "### A color-magnitude diagram is a plot of absolute magnitude vs. stellar color\n",
    "\n",
    "We will therefore need to use the subset of Gaia measurements to infer these quantities"
   ]
  },
  {
   "cell_type": "markdown",
   "metadata": {},
   "source": [
    "#### 4. Calculate a photometric color as the Gaia measurements of \"Blue - Red\" filters = Bp - Rp\n",
    "This should be one of the fields you kept when you filtered the data in step 3. We are going to want to operate on this specifically, so it will be useful for us to extract it as its own variable separate from teh data frame. Insert your code for doing this below, assigning the result to a variable with a name like `BlueMinusRed`. "
   ]
  },
  {
   "cell_type": "code",
   "execution_count": 83,
   "metadata": {},
   "outputs": [],
   "source": [
    "#extract photometric color from DataFrame\n"
   ]
  },
  {
   "cell_type": "markdown",
   "metadata": {},
   "source": [
    "#### 5. Gaia reports the apparent magnitudes. To convert to absolute magnitude, we need to know the distance to each star.\n",
    "Gaia is an astrometric mission which makes very sensitive measurements of parallax as described in the pre-lab video. The parallax is 1/distance. Use the Gaia parallax saved in your filtered data frame (from step 3) to calculate distances to each star and call the resulting variable something like `distance`.\n",
    "\n",
    "Calculate your distances in pc -- make sure to note what units Gaia uses for parallax!"
   ]
  },
  {
   "cell_type": "code",
   "execution_count": 23,
   "metadata": {},
   "outputs": [],
   "source": [
    "#calculate distances from parallax \n"
   ]
  },
  {
   "cell_type": "markdown",
   "metadata": {},
   "source": [
    "#### 5. We can then use the measured distances to convert apparent to observed magnitudes\n",
    "There are many ways to do this, e.g. we could convert the apparent magnitudes to flux and then scale by the distance squared. The easiest way though is to use the \"distance modulus\" -- as discussed in the pre-lab video we can use this quantity to convert apparent --> absolute magnitude.\n",
    "\n",
    "Convert the Gaia G band apparent magnitude measurements to absolute G magnitudes and assign the result to a variable with a name like `GAbsMag`."
   ]
  },
  {
   "cell_type": "code",
   "execution_count": 76,
   "metadata": {},
   "outputs": [],
   "source": [
    "#calculate absolute magnitudes here\n"
   ]
  },
  {
   "cell_type": "markdown",
   "metadata": {},
   "source": [
    "#### 6. Signal-to-noise cut\n",
    "We only want to use data where the parallax (and so distance) is well measured\n",
    "We will define \"good\" data points as parallax signal-to-noise. You can define that cut using a conditional statement, ie \n",
    "`parallax_over_error > 4.0`.\n",
    "and assign the result to a variable `goodInd`. \n",
    "\n",
    "This defines a variable which is ```True``` if `parallax_over_error > 4.0` and `False` otherwise for all the possible indices of your data.\n",
    "\n",
    "To select only the good data points, you can then write `list[good]`. This is similar to how `list[0]` takes the first thing from a list -- `list[good]` is a powerful (and Pythonic) way of selecting many entries from a list based on the list generated when you run `parallax_over_error > 4`.\n"
   ]
  },
  {
   "cell_type": "code",
   "execution_count": 25,
   "metadata": {},
   "outputs": [],
   "source": [
    "#create a goodInd list to keep track of the places where the SNR is > 4\n"
   ]
  },
  {
   "cell_type": "markdown",
   "metadata": {},
   "source": [
    "#### 7. Color-magnitude diagram\n",
    "Plot your ***good*** absolute magnitude measurements vs. photometric color for all stars in your file. Remember you can select just the good measurements by indexing with the variable you created in the cell above.\n",
    "\n",
    "By default `plt.plot()` makes lines connecting points, which obviously we do not want for this plot... There are two \"simple\" ways to plot dots without connecting lines, as the examples below show:\n",
    "\n",
    "1. Using extra parameters in `plt.plot()`\n",
    "\n",
    "```python\n",
    "plt.plot(x,y,marker='.',linestyle='') #specifies no line ('') and to use a small dot at each point ('.')\n",
    "```\n",
    "\n",
    "2. Using `plt.scatter()`\n",
    "```python\n",
    "plt.scatter(x,y,s=3) #generates a scatter plot, s is an optional parameter that controls dot size\n",
    "```\n",
    "\n",
    "You'll want to change the axis so that the brightness of stars is increasing going up (recall what that means for magnitudes). You can explicitly specify the limits with `plt.ylim()` to change the y-axis (putting the bigger number first will make that number the bottom limit and make it run in \"reverse\"). \n",
    "\n",
    "Don't forget to add a descriptive title and label the axes!\n",
    "\n",
    "**Bonus:** use a colormap to make your plot closer to the ones you've likely seen in your textbooks (ie cool stars red, hot stars blue, middle stars yellow, etc.)"
   ]
  },
  {
   "cell_type": "code",
   "execution_count": 84,
   "metadata": {},
   "outputs": [],
   "source": [
    "#make your plot here!\n"
   ]
  },
  {
   "cell_type": "markdown",
   "metadata": {},
   "source": [
    "#### 8. Interpretation\n",
    "\n",
    "Color-magnitude diagrams are used to classify populations of stars and understand their properties. Here we'll start to think about why they might be useful. Answer the following questions in the markdown cells provided after each.\n",
    "\n",
    "#### a) Compare with your \"neighbor(s)\" -- do your plots look the same? Comment on any differences you notice."
   ]
  },
  {
   "cell_type": "code",
   "execution_count": null,
   "metadata": {},
   "outputs": [],
   "source": []
  },
  {
   "cell_type": "markdown",
   "metadata": {},
   "source": [
    "#### b) What do your x- and y-axis mean?\n",
    "\n",
    "Using the concepts of absolute magnitude and color temperature, think about what your plotted axes represent physically. \n",
    "\n",
    "Where are the most luminous stars on your plot? Where are the hottest stars?"
   ]
  },
  {
   "cell_type": "code",
   "execution_count": null,
   "metadata": {},
   "outputs": [],
   "source": []
  },
  {
   "cell_type": "markdown",
   "metadata": {},
   "source": [
    "#### c) Stellar radius\n",
    "\n",
    "Using the definition of effective temperature, $L = 4\\pi R^2 \\sigma_b T_{\\rm eff}^4$, and your answers to part i), we can also use this diagram to infer the stellar radius $R$ at each point.\n",
    "\n",
    "Where are the largest stars on the diagram? Where are the smallest stars? Bonus: how should lines of constant $R$ look on the diagram?"
   ]
  },
  {
   "cell_type": "code",
   "execution_count": null,
   "metadata": {},
   "outputs": [],
   "source": []
  },
  {
   "cell_type": "markdown",
   "metadata": {},
   "source": [
    "#### d) Stellar populations\n",
    "\n",
    "On your diagram, do the stars uniformly fill the available space? Where are most of them located? Circle what you might describe as \"populations\" of stars in different regions of the diagram. There should be at least 3.\n",
    "\n",
    "Which of your populations contain the most stars, and what does that mean?"
   ]
  },
  {
   "cell_type": "code",
   "execution_count": null,
   "metadata": {},
   "outputs": [],
   "source": []
  },
  {
   "cell_type": "markdown",
   "metadata": {},
   "source": [
    "#### 9. Optional for more time or interest\n",
    "\n",
    "Each file is a tiny subset of the available Gaia DR2 data. Some steps to make a nicer diagram would be:\n",
    "\n",
    "1. Download 5-10 data files for a bigger dataset. \n",
    "\n",
    "2. Wite a function that accepts a filename (or a directory name) and goes through the steps above (ie loads the data, calculates the color and absolute magnitude, etc).\n",
    "\n",
    "3. Run the function in a loop and collect all of the good data for color and magnitude from all of the files.\n",
    "\n",
    "4. Make a new color-magnitude diagram using this much larger dataset and compare to your original plot.\n",
    "\n",
    "If you aren't comfortable with steps 1 and 2 yet but still want to do this, I've created a combined file (`KirkCombinedData.csv`) for the 10 most recent observations on the Gaia site with the filtering already done, so you could just load that in and then follow the rest of the steps to make a better plot. But it's good practice to know how to do this yourself!\n",
    "\n",
    "Going through those steps, the populations you identified above should become more clear. You'll also likely\n",
    "start to see new tracks emerge that are occupied by less common stars!"
   ]
  },
  {
   "cell_type": "code",
   "execution_count": null,
   "metadata": {},
   "outputs": [],
   "source": [
    "#make a better plot here\n"
   ]
  }
 ],
 "metadata": {
  "kernelspec": {
   "display_name": "Python 3",
   "language": "python",
   "name": "python3"
  },
  "language_info": {
   "codemirror_mode": {
    "name": "ipython",
    "version": 3
   },
   "file_extension": ".py",
   "mimetype": "text/x-python",
   "name": "python",
   "nbconvert_exporter": "python",
   "pygments_lexer": "ipython3",
   "version": "3.7.7"
  }
 },
 "nbformat": 4,
 "nbformat_minor": 2
}
